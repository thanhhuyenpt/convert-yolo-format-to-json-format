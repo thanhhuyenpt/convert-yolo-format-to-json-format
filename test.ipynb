{
 "cells": [
  {
   "cell_type": "code",
   "execution_count": 1,
   "metadata": {},
   "outputs": [],
   "source": [
    "import os\n",
    "import json\n",
    "import numpy as np\n",
    "from PIL import Image\n",
    "import glob"
   ]
  },
  {
   "cell_type": "code",
   "execution_count": 9,
   "metadata": {},
   "outputs": [
    {
     "name": "stdout",
     "output_type": "stream",
     "text": [
      "dataset_kpt/images/Abdel_Madi_Shabneh_0001.jpg\n",
      "dataset_kpt/images/cam223_43319.jpg\n",
      "dataset_kpt/images/Abdoulaye_Wade_0001.jpg\n",
      "dataset_kpt/images/bicycle_0.jpg\n",
      "dataset_kpt/images/148.jpg\n",
      "dataset_kpt/images/Abdel_Nasser_Assidi_0001.jpg\n",
      "dataset_kpt/images/lp_bike_23.png\n"
     ]
    }
   ],
   "source": [
    "for kpt_img in glob.glob('dataset_kpt/images/' + \"*.jpg\") + glob.glob('dataset_kpt/images/' + \"*.png\"):\n",
    "    print(kpt_img)"
   ]
  },
  {
   "cell_type": "code",
   "execution_count": 9,
   "metadata": {},
   "outputs": [
    {
     "name": "stdout",
     "output_type": "stream",
     "text": [
      "Abdel_Madi_Shabneh_0001.jpg\n",
      "cam223_43319.jpg\n",
      "Abdoulaye_Wade_0001.jpg\n",
      "bicycle_0.jpg\n",
      "148.jpg\n",
      "Abdel_Nasser_Assidi_0001.jpg\n",
      "lp_bike_23.png\n"
     ]
    }
   ],
   "source": [
    "import os\n",
    "\n",
    "file_paths = [\n",
    "    \"dataset_kpt/images/Abdel_Madi_Shabneh_0001.jpg\",\n",
    "    \"dataset_kpt/images/cam223_43319.jpg\",\n",
    "    \"dataset_kpt/images/Abdoulaye_Wade_0001.jpg\",\n",
    "    \"dataset_kpt/images/bicycle_0.jpg\",\n",
    "    \"dataset_kpt/images/148.jpg\",\n",
    "    \"dataset_kpt/images/Abdel_Nasser_Assidi_0001.jpg\",\n",
    "    \"dataset_kpt/images/labels/lp_bike_23.png\",\n",
    "]\n",
    "\n",
    "# Lấy tên của từng tệp\n",
    "file_names = [os.path.basename(path) for path in file_paths]\n",
    "\n",
    "# In ra tên của từng tệp\n",
    "for name in file_names:\n",
    "    print(name)\n"
   ]
  },
  {
   "cell_type": "code",
   "execution_count": null,
   "metadata": {},
   "outputs": [],
   "source": []
  }
 ],
 "metadata": {
  "kernelspec": {
   "display_name": "wildfire",
   "language": "python",
   "name": "python3"
  },
  "language_info": {
   "codemirror_mode": {
    "name": "ipython",
    "version": 3
   },
   "file_extension": ".py",
   "mimetype": "text/x-python",
   "name": "python",
   "nbconvert_exporter": "python",
   "pygments_lexer": "ipython3",
   "version": "3.8.18"
  },
  "orig_nbformat": 4
 },
 "nbformat": 4,
 "nbformat_minor": 2
}
